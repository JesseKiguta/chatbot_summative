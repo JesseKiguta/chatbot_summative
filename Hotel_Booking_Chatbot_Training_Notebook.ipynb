{
  "cells": [
    {
      "cell_type": "markdown",
      "source": [
        "## Installing relevant modules for this task"
      ],
      "metadata": {
        "id": "9iVPjUS26H4H"
      }
    },
    {
      "cell_type": "code",
      "execution_count": null,
      "metadata": {
        "colab": {
          "base_uri": "https://localhost:8080/"
        },
        "id": "sktwIAy9uFXr",
        "outputId": "726d7391-a16f-4640-f9f2-b91577946d2b"
      },
      "outputs": [
        {
          "output_type": "stream",
          "name": "stdout",
          "text": [
            "Requirement already satisfied: datasets in /usr/local/lib/python3.11/dist-packages (2.14.4)\n",
            "Collecting datasets\n",
            "  Downloading datasets-3.6.0-py3-none-any.whl.metadata (19 kB)\n",
            "Requirement already satisfied: filelock in /usr/local/lib/python3.11/dist-packages (from datasets) (3.18.0)\n",
            "Requirement already satisfied: numpy>=1.17 in /usr/local/lib/python3.11/dist-packages (from datasets) (2.0.2)\n",
            "Requirement already satisfied: pyarrow>=15.0.0 in /usr/local/lib/python3.11/dist-packages (from datasets) (18.1.0)\n",
            "Requirement already satisfied: dill<0.3.9,>=0.3.0 in /usr/local/lib/python3.11/dist-packages (from datasets) (0.3.7)\n",
            "Requirement already satisfied: pandas in /usr/local/lib/python3.11/dist-packages (from datasets) (2.2.2)\n",
            "Requirement already satisfied: requests>=2.32.2 in /usr/local/lib/python3.11/dist-packages (from datasets) (2.32.3)\n",
            "Requirement already satisfied: tqdm>=4.66.3 in /usr/local/lib/python3.11/dist-packages (from datasets) (4.67.1)\n",
            "Requirement already satisfied: xxhash in /usr/local/lib/python3.11/dist-packages (from datasets) (3.5.0)\n",
            "Requirement already satisfied: multiprocess<0.70.17 in /usr/local/lib/python3.11/dist-packages (from datasets) (0.70.15)\n",
            "Collecting fsspec<=2025.3.0,>=2023.1.0 (from fsspec[http]<=2025.3.0,>=2023.1.0->datasets)\n",
            "  Downloading fsspec-2025.3.0-py3-none-any.whl.metadata (11 kB)\n",
            "Requirement already satisfied: huggingface-hub>=0.24.0 in /usr/local/lib/python3.11/dist-packages (from datasets) (0.33.0)\n",
            "Requirement already satisfied: packaging in /usr/local/lib/python3.11/dist-packages (from datasets) (24.2)\n",
            "Requirement already satisfied: pyyaml>=5.1 in /usr/local/lib/python3.11/dist-packages (from datasets) (6.0.2)\n",
            "Requirement already satisfied: aiohttp!=4.0.0a0,!=4.0.0a1 in /usr/local/lib/python3.11/dist-packages (from fsspec[http]<=2025.3.0,>=2023.1.0->datasets) (3.11.15)\n",
            "Requirement already satisfied: typing-extensions>=3.7.4.3 in /usr/local/lib/python3.11/dist-packages (from huggingface-hub>=0.24.0->datasets) (4.14.0)\n",
            "Requirement already satisfied: hf-xet<2.0.0,>=1.1.2 in /usr/local/lib/python3.11/dist-packages (from huggingface-hub>=0.24.0->datasets) (1.1.3)\n",
            "Requirement already satisfied: charset-normalizer<4,>=2 in /usr/local/lib/python3.11/dist-packages (from requests>=2.32.2->datasets) (3.4.2)\n",
            "Requirement already satisfied: idna<4,>=2.5 in /usr/local/lib/python3.11/dist-packages (from requests>=2.32.2->datasets) (3.10)\n",
            "Requirement already satisfied: urllib3<3,>=1.21.1 in /usr/local/lib/python3.11/dist-packages (from requests>=2.32.2->datasets) (2.4.0)\n",
            "Requirement already satisfied: certifi>=2017.4.17 in /usr/local/lib/python3.11/dist-packages (from requests>=2.32.2->datasets) (2025.6.15)\n",
            "Requirement already satisfied: python-dateutil>=2.8.2 in /usr/local/lib/python3.11/dist-packages (from pandas->datasets) (2.9.0.post0)\n",
            "Requirement already satisfied: pytz>=2020.1 in /usr/local/lib/python3.11/dist-packages (from pandas->datasets) (2025.2)\n",
            "Requirement already satisfied: tzdata>=2022.7 in /usr/local/lib/python3.11/dist-packages (from pandas->datasets) (2025.2)\n",
            "Requirement already satisfied: aiohappyeyeballs>=2.3.0 in /usr/local/lib/python3.11/dist-packages (from aiohttp!=4.0.0a0,!=4.0.0a1->fsspec[http]<=2025.3.0,>=2023.1.0->datasets) (2.6.1)\n",
            "Requirement already satisfied: aiosignal>=1.1.2 in /usr/local/lib/python3.11/dist-packages (from aiohttp!=4.0.0a0,!=4.0.0a1->fsspec[http]<=2025.3.0,>=2023.1.0->datasets) (1.3.2)\n",
            "Requirement already satisfied: attrs>=17.3.0 in /usr/local/lib/python3.11/dist-packages (from aiohttp!=4.0.0a0,!=4.0.0a1->fsspec[http]<=2025.3.0,>=2023.1.0->datasets) (25.3.0)\n",
            "Requirement already satisfied: frozenlist>=1.1.1 in /usr/local/lib/python3.11/dist-packages (from aiohttp!=4.0.0a0,!=4.0.0a1->fsspec[http]<=2025.3.0,>=2023.1.0->datasets) (1.7.0)\n",
            "Requirement already satisfied: multidict<7.0,>=4.5 in /usr/local/lib/python3.11/dist-packages (from aiohttp!=4.0.0a0,!=4.0.0a1->fsspec[http]<=2025.3.0,>=2023.1.0->datasets) (6.4.4)\n",
            "Requirement already satisfied: propcache>=0.2.0 in /usr/local/lib/python3.11/dist-packages (from aiohttp!=4.0.0a0,!=4.0.0a1->fsspec[http]<=2025.3.0,>=2023.1.0->datasets) (0.3.2)\n",
            "Requirement already satisfied: yarl<2.0,>=1.17.0 in /usr/local/lib/python3.11/dist-packages (from aiohttp!=4.0.0a0,!=4.0.0a1->fsspec[http]<=2025.3.0,>=2023.1.0->datasets) (1.20.1)\n",
            "Requirement already satisfied: six>=1.5 in /usr/local/lib/python3.11/dist-packages (from python-dateutil>=2.8.2->pandas->datasets) (1.17.0)\n",
            "Downloading datasets-3.6.0-py3-none-any.whl (491 kB)\n",
            "\u001b[2K   \u001b[90m\u2501\u2501\u2501\u2501\u2501\u2501\u2501\u2501\u2501\u2501\u2501\u2501\u2501\u2501\u2501\u2501\u2501\u2501\u2501\u2501\u2501\u2501\u2501\u2501\u2501\u2501\u2501\u2501\u2501\u2501\u2501\u2501\u2501\u2501\u2501\u2501\u2501\u2501\u2501\u2501\u001b[0m \u001b[32m491.5/491.5 kB\u001b[0m \u001b[31m30.9 MB/s\u001b[0m eta \u001b[36m0:00:00\u001b[0m\n",
            "\u001b[?25hDownloading fsspec-2025.3.0-py3-none-any.whl (193 kB)\n",
            "\u001b[2K   \u001b[90m\u2501\u2501\u2501\u2501\u2501\u2501\u2501\u2501\u2501\u2501\u2501\u2501\u2501\u2501\u2501\u2501\u2501\u2501\u2501\u2501\u2501\u2501\u2501\u2501\u2501\u2501\u2501\u2501\u2501\u2501\u2501\u2501\u2501\u2501\u2501\u2501\u2501\u2501\u2501\u2501\u001b[0m \u001b[32m193.6/193.6 kB\u001b[0m \u001b[31m17.3 MB/s\u001b[0m eta \u001b[36m0:00:00\u001b[0m\n",
            "\u001b[?25hInstalling collected packages: fsspec, datasets\n",
            "  Attempting uninstall: fsspec\n",
            "    Found existing installation: fsspec 2025.3.2\n",
            "    Uninstalling fsspec-2025.3.2:\n",
            "      Successfully uninstalled fsspec-2025.3.2\n",
            "  Attempting uninstall: datasets\n",
            "    Found existing installation: datasets 2.14.4\n",
            "    Uninstalling datasets-2.14.4:\n",
            "      Successfully uninstalled datasets-2.14.4\n",
            "\u001b[31mERROR: pip's dependency resolver does not currently take into account all the packages that are installed. This behaviour is the source of the following dependency conflicts.\n",
            "torch 2.6.0+cu124 requires nvidia-cublas-cu12==12.4.5.8; platform_system == \"Linux\" and platform_machine == \"x86_64\", but you have nvidia-cublas-cu12 12.5.3.2 which is incompatible.\n",
            "torch 2.6.0+cu124 requires nvidia-cuda-cupti-cu12==12.4.127; platform_system == \"Linux\" and platform_machine == \"x86_64\", but you have nvidia-cuda-cupti-cu12 12.5.82 which is incompatible.\n",
            "torch 2.6.0+cu124 requires nvidia-cuda-nvrtc-cu12==12.4.127; platform_system == \"Linux\" and platform_machine == \"x86_64\", but you have nvidia-cuda-nvrtc-cu12 12.5.82 which is incompatible.\n",
            "torch 2.6.0+cu124 requires nvidia-cuda-runtime-cu12==12.4.127; platform_system == \"Linux\" and platform_machine == \"x86_64\", but you have nvidia-cuda-runtime-cu12 12.5.82 which is incompatible.\n",
            "torch 2.6.0+cu124 requires nvidia-cudnn-cu12==9.1.0.70; platform_system == \"Linux\" and platform_machine == \"x86_64\", but you have nvidia-cudnn-cu12 9.3.0.75 which is incompatible.\n",
            "torch 2.6.0+cu124 requires nvidia-cufft-cu12==11.2.1.3; platform_system == \"Linux\" and platform_machine == \"x86_64\", but you have nvidia-cufft-cu12 11.2.3.61 which is incompatible.\n",
            "torch 2.6.0+cu124 requires nvidia-curand-cu12==10.3.5.147; platform_system == \"Linux\" and platform_machine == \"x86_64\", but you have nvidia-curand-cu12 10.3.6.82 which is incompatible.\n",
            "torch 2.6.0+cu124 requires nvidia-cusolver-cu12==11.6.1.9; platform_system == \"Linux\" and platform_machine == \"x86_64\", but you have nvidia-cusolver-cu12 11.6.3.83 which is incompatible.\n",
            "torch 2.6.0+cu124 requires nvidia-cusparse-cu12==12.3.1.170; platform_system == \"Linux\" and platform_machine == \"x86_64\", but you have nvidia-cusparse-cu12 12.5.1.3 which is incompatible.\n",
            "torch 2.6.0+cu124 requires nvidia-nvjitlink-cu12==12.4.127; platform_system == \"Linux\" and platform_machine == \"x86_64\", but you have nvidia-nvjitlink-cu12 12.5.82 which is incompatible.\n",
            "gcsfs 2025.3.2 requires fsspec==2025.3.2, but you have fsspec 2025.3.0 which is incompatible.\u001b[0m\u001b[31m\n",
            "\u001b[0mSuccessfully installed datasets-3.6.0 fsspec-2025.3.0\n"
          ]
        }
      ],
      "source": [
        "!pip install --upgrade datasets"
      ]
    },
    {
      "cell_type": "markdown",
      "metadata": {
        "id": "Q7JohPgsKIxT"
      },
      "source": [
        "## Loading the data to be used for training the chatbot."
      ]
    },
    {
      "cell_type": "code",
      "execution_count": null,
      "metadata": {
        "colab": {
          "base_uri": "https://localhost:8080/",
          "height": 318,
          "referenced_widgets": [
            "81e0e10453a446c58926b0fda9226a6d",
            "78baa5c0295f43ef885d5df40b095119",
            "bf142c95692a430e8b24d91158d711ea",
            "a82c7c53b2c741a1baeb2ddb6812b2d7",
            "e2e95f4f88e04f768139b2dcdd15fb79",
            "49163d2dbc9444a8ab285b330cc98fb5",
            "b304faafce7548e3bbaa959973226201",
            "d8ccb774341548009a89f97cd20c090f",
            "2986bf49c1cf4f34b63f6a87e7ca9108",
            "7c26052ca0fe44f690074c3fc0eb6ca8",
            "5e21c5680e7546abae8b116dfa1fba8e",
            "6908b4ac0fd1478997ea5522a68b29c3",
            "b27b8a59b3934939ae768c3ee944bdd5",
            "c3ed3666b53948bdb385aed0068a6547",
            "06c189ee2a7c4e7a87891c1ce0aac621",
            "89c573e9a2d24d979d147c641808a22f",
            "9a781375cb4d4bb19c6047bc90e0987c",
            "cd7d2575d3084214b438321fc5aa7692",
            "0501ae7105964421b269f19d83359272",
            "8d2ddb82877349f4a79792c7d62f820f",
            "a54e2cb435a548648ea4e9a94bdcdca5",
            "56efcc1fa7124fa58426ad1af3ae54c5",
            "42f4cce3c6a44cffa252fa31281c745f",
            "763d9b233cf14361ae0eb0c6c740e1a1",
            "0db8e4d688ba41229ad9f4792836f599",
            "2888d07d25f841f3939295cba0aadebf",
            "c9d51fb9a6c54c0692d3fcd50a6d2bf2",
            "1dcb3ac60ef743e8861f0b720fca6157",
            "4937e63325444d04a59a82e2efc04e94",
            "2c28c3dad8ee495eba2c0489d3c2cbdb",
            "c3bcb1e922d34d61b808f895a30c19a3",
            "0e1b27b1b6994ca4b570d8e17f1693e1",
            "f364ba877a094958a5164250adbfda50",
            "4b4fe5599f2a4531bcd022a3b1d8ea0d",
            "a5bf34d18b2340728acc3e87e66a227e",
            "ff95c1bb17e143cf85c8db695049f8e8",
            "921318e5b9c14f4da7570ae744d578fd",
            "6f454da7b53e41ec9a100dddac6d6a13",
            "3f932bcdf27c406d82269c35bea809d4",
            "4fd260c6f1fb444d965c212e182c63ed",
            "1a16cea10acf4b868fdb522df5a76143",
            "92613b0a1d104539a5eab01a02951200",
            "3cd5dcef87c14f45a7a665392913c704",
            "0a80d3d15b694c06ab97171969171d68",
            "0641c493c8974d9f8b5925387aa1c591",
            "76944317e4c9435db38a5ece1329eb09",
            "ee987ba64005472fa26567c6a08492c5",
            "14881106b1054744ba483f76d45e3d36",
            "23aca35a274f42bfae2a5e0c49dbdad9",
            "e5c85f538f8f4df0973c746b4e39dac0",
            "b01486309ab04ba888bb797562bc9fdb",
            "85517dead0bb4a23a31c4c1269c56511",
            "1dcde47d5f734c80b264b0effa2c7a81",
            "c8dba35f4fd041869745fb947d3df607",
            "2f4b621448314563afd80dd521755cc0"
          ]
        },
        "id": "8_zpwU-kEbmn",
        "outputId": "917f506a-2d34-4f8b-ddcd-e9905a8fd06d"
      },
      "outputs": [
        {
          "output_type": "stream",
          "name": "stderr",
          "text": [
            "/usr/local/lib/python3.11/dist-packages/huggingface_hub/utils/_auth.py:94: UserWarning: \n",
            "The secret `HF_TOKEN` does not exist in your Colab secrets.\n",
            "To authenticate with the Hugging Face Hub, create a token in your settings tab (https://huggingface.co/settings/tokens), set it as secret in your Google Colab and restart your session.\n",
            "You will be able to reuse this secret in all of your notebooks.\n",
            "Please note that authentication is recommended but still optional to access public models or datasets.\n",
            "  warnings.warn(\n"
          ]
        },
        {
          "output_type": "display_data",
          "data": {
            "text/plain": [
              "README.md:   0%|          | 0.00/570 [00:00<?, ?B/s]"
            ],
            "application/vnd.jupyter.widget-view+json": {
              "version_major": 2,
              "version_minor": 0,
              "model_id": "81e0e10453a446c58926b0fda9226a6d"
            }
          },
          "metadata": {}
        },
        {
          "output_type": "display_data",
          "data": {
            "text/plain": [
              "(\u2026)-00000-of-00001-0225aaf39f8f1eab.parquet:   0%|          | 0.00/1.49M [00:00<?, ?B/s]"
            ],
            "application/vnd.jupyter.widget-view+json": {
              "version_major": 2,
              "version_minor": 0,
              "model_id": "6908b4ac0fd1478997ea5522a68b29c3"
            }
          },
          "metadata": {}
        },
        {
          "output_type": "display_data",
          "data": {
            "text/plain": [
              "(\u2026)-00000-of-00001-b98de524a3870f93.parquet:   0%|          | 0.00/5.31k [00:00<?, ?B/s]"
            ],
            "application/vnd.jupyter.widget-view+json": {
              "version_major": 2,
              "version_minor": 0,
              "model_id": "42f4cce3c6a44cffa252fa31281c745f"
            }
          },
          "metadata": {}
        },
        {
          "output_type": "display_data",
          "data": {
            "text/plain": [
              "Generating train split:   0%|          | 0/12520 [00:00<?, ? examples/s]"
            ],
            "application/vnd.jupyter.widget-view+json": {
              "version_major": 2,
              "version_minor": 0,
              "model_id": "4b4fe5599f2a4531bcd022a3b1d8ea0d"
            }
          },
          "metadata": {}
        },
        {
          "output_type": "display_data",
          "data": {
            "text/plain": [
              "Generating test split:   0%|          | 0/1 [00:00<?, ? examples/s]"
            ],
            "application/vnd.jupyter.widget-view+json": {
              "version_major": 2,
              "version_minor": 0,
              "model_id": "0641c493c8974d9f8b5925387aa1c591"
            }
          },
          "metadata": {}
        },
        {
          "output_type": "stream",
          "name": "stdout",
          "text": [
            "Hotels features: {'domain': Value(dtype='string', id=None), 'context': Value(dtype='string', id=None), 'response': Value(dtype='string', id=None), 'act': Value(dtype='int64', id=None), 'speaker': Value(dtype='int64', id=None)}\n"
          ]
        }
      ],
      "source": [
        "from datasets import load_dataset, DatasetDict\n",
        "import pandas as pd\n",
        "\n",
        "# Load the dataset directly from the Hugging Face Hub\n",
        "sgd_hotels = load_dataset(\"vidhikatkoria/SGD_Hotels\", split='train')\n",
        "\n",
        "print(\"Hotels features:\", sgd_hotels.features)"
      ]
    },
    {
      "cell_type": "markdown",
      "metadata": {
        "id": "er4KZzeSYzWO"
      },
      "source": [
        "## Preprocessing the data."
      ]
    },
    {
      "cell_type": "code",
      "execution_count": null,
      "metadata": {
        "colab": {
          "base_uri": "https://localhost:8080/",
          "height": 170,
          "referenced_widgets": [
            "8875aef03dc2455f97e287aaa1cc9c1f",
            "7fa9f0d5ef564471a45ee531ae4f6333",
            "6c80bde028f94e23af390fb0c8cae508",
            "12ab79e5e2204e50b5fb93a0a0d135b3",
            "0720c2869779413d82c5e885a739b39c",
            "729bdb9fd73649b898ca45805265f96a",
            "836bb322e09e4f6f95c8d59bec38d96b",
            "d6326b7b066f48d7adc1a7545f2669d9",
            "a85eaab5195f41908e2cd675fea242cf",
            "f7741287894f46b2b5b486932b361c66",
            "233e81bfa5374887b0b1ff37dfa03fd1"
          ]
        },
        "id": "EgKMerjXY3N8",
        "outputId": "27a4c1cb-f061-4531-afe1-ab5e5033e318"
      },
      "outputs": [
        {
          "output_type": "display_data",
          "data": {
            "text/plain": [
              "Map:   0%|          | 0/12520 [00:00<?, ? examples/s]"
            ],
            "application/vnd.jupyter.widget-view+json": {
              "version_major": 2,
              "version_minor": 0,
              "model_id": "8875aef03dc2455f97e287aaa1cc9c1f"
            }
          },
          "metadata": {}
        },
        {
          "output_type": "stream",
          "name": "stdout",
          "text": [
            "Unique intents: [ 3  2 11 14  1  0 10 13  4  5]\n",
            "   act                                               text\n",
            "0    3          I am plannning a trip to London, England.\n",
            "1    2  Okay, this house sounds amazing. That's all I ...\n",
            "2   11                         Do you have anything else?\n",
            "3   14                             No, you've been great.\n",
            "4    2                               Thanks. I've got it.\n"
          ]
        }
      ],
      "source": [
        "import pandas as pd\n",
        "\n",
        "# Extract user responses\n",
        "def extract_user_responses(batch):\n",
        "    user_texts = []\n",
        "    user_acts = []\n",
        "\n",
        "    for response, act, speaker in zip(\n",
        "        batch['response'], batch['act'], batch['speaker']\n",
        "    ):\n",
        "        if speaker == 0:  # Only process user responses\n",
        "            cleaned_text = response.strip()\n",
        "            if cleaned_text:  # Only add non-empty responses\n",
        "                user_texts.append(cleaned_text)\n",
        "                user_acts.append(act)\n",
        "\n",
        "    return {\n",
        "        'text': user_texts,\n",
        "        'act': user_acts,\n",
        "    }\n",
        "\n",
        "# Processing dataset\n",
        "hotels_clean = sgd_hotels.map(extract_user_responses, batched=True, remove_columns=sgd_hotels.column_names)\n",
        "df = hotels_clean.to_pandas()\n",
        "\n",
        "print(\"Unique intents:\", df[\"act\"].unique())\n",
        "print(df.head())"
      ]
    },
    {
      "cell_type": "code",
      "execution_count": null,
      "metadata": {
        "colab": {
          "base_uri": "https://localhost:8080/",
          "height": 604
        },
        "id": "PCSzKTeatrvh",
        "outputId": "1887b3a8-0947-4cd7-dd02-af255fd6bd6b"
      },
      "outputs": [
        {
          "output_type": "stream",
          "name": "stdout",
          "text": [
            "act\n",
            "3     2143\n",
            "14     901\n",
            "10     795\n",
            "1      619\n",
            "4      583\n",
            "13     492\n",
            "11     384\n",
            "2      360\n",
            "0      187\n",
            "5       44\n",
            "Name: count, dtype: int64\n"
          ]
        },
        {
          "output_type": "display_data",
          "data": {
            "text/plain": [
              "<Figure size 1200x400 with 1 Axes>"
            ],
            "image/png": "[encoded data removed]"
          },
          "metadata": {}
        }
      ],
      "source": [
        "intent_counts = df['act'].value_counts()\n",
        "print(intent_counts)\n",
        "\n",
        "# Visualize intent distribution\n",
        "import matplotlib.pyplot as plt\n",
        "\n",
        "plt.figure(figsize=(12,4))\n",
        "intent_counts.plot(kind='bar')\n",
        "plt.xticks(rotation=45, ha='right')\n",
        "plt.tight_layout()\n",
        "plt.show()"
      ]
    },
    {
      "cell_type": "code",
      "execution_count": null,
      "metadata": {
        "colab": {
          "base_uri": "https://localhost:8080/"
        },
        "id": "mQkehpw3LhCI",
        "outputId": "1185e701-e6f2-40a1-d424-bf80bd66f918"
      },
      "outputs": [
        {
          "output_type": "stream",
          "name": "stdout",
          "text": [
            "\n",
            "Intent 3 examples:\n",
            "- In SFO.\n",
            "- Great, book that for the 8th please?\n",
            "- Make it next Monday.\n",
            "- What else is there? Also, I need to be able to have pets stay with me.\n",
            "- only one day.\n",
            "\n",
            "Intent 2 examples:\n",
            "- Thank you so much, I'm all set.\n",
            "- i appreciate your help, Thank you. I don't need anything else.\n",
            "- No, not now.That's all now.\n",
            "- Thank you for your help.\n",
            "- I like it, thanks. Bye\n",
            "\n",
            "Intent 11 examples:\n",
            "- Anything else you have, I am searching for one person and the rating 4.2 or high\n",
            "- Any other options?\n",
            "- Hmm. Check for some other hotel, please, one that allows pets. I need to reserve\n",
            "- Anything else available?\n",
            "- Are there any other hotel available?\n",
            "\n",
            "Intent 14 examples:\n",
            "- No, that's all\n",
            "- Thank you very much for your help\n",
            "- Nothing, I am very thankful.\n",
            "- Thank you.\n",
            "- Thank you for your time.\n",
            "\n",
            "Intent 1 examples:\n",
            "- Sounds great, what's the price?\n",
            "- Confirmed. What's the price and rating?\n",
            "- That is correct.\n",
            "- Approval granted, thanks.\n",
            "- That suits me well. Can you tell me how much it will cost?\n",
            "\n",
            "Intent 0 examples:\n",
            "- Yes, I need it.\n",
            "- Yes, I would.\n",
            "- Yeah, I intend to book for two days with a check-in date on the 3rd.\n",
            "- Yes, please go ahead and reserve the house.\n",
            "- Yes, I would like to book the house.\n",
            "\n",
            "Intent 10 examples:\n",
            "- Does it have laundry?\n",
            "- That is correct. Is there wifi available at this hotel?\n",
            "- Does it offer wifi?\n",
            "- Thank you. Can I please have the rating for this hotel and also the address?\n",
            "- Are there laundry services available?\n",
            "\n",
            "Intent 13 examples:\n",
            "- wow! that's good and will you make a reservation in this hotel?\n",
            "- That house looks good, let's book it\n",
            "- Sure, could you make a reservation on the 4th of March please?\n",
            "- Sweet. Please make me a reservation at that hotel.\n",
            "- That works\n",
            "\n",
            "Intent 4 examples:\n",
            "- No, thank you!\n",
            "- No, I would like to check in the 10th and chek out 12th of March.\n",
            "- Sorry, change of plan. I want to check in on the 7th of this month, and check ou\n",
            "- No, I am all set. You have been very helpful.\n",
            "- Not today, thanks.\n",
            "\n",
            "Intent 5 examples:\n",
            "- No, thank you, I don't want to make the reservation right now, I need to confirm\n",
            "- No, not just now.\n",
            "- No. Not at this time. I am all set.\n",
            "- Not at this moment, thanks\n",
            "- No, I don't need you to.\n"
          ]
        }
      ],
      "source": [
        "# Checking the text that corresponds with each intent\n",
        "for intent in df['act'].unique():\n",
        "    samples = df[df['act'] == intent]['text'].sample(min(5, len(df[df['act'] == intent])), random_state=42) # Gets 5 samples per intent\n",
        "    print(f\"\\nIntent {intent} examples:\")\n",
        "    for sample in samples:\n",
        "        print(f\"- {sample[:80]}\")"
      ]
    },
    {
      "cell_type": "code",
      "execution_count": null,
      "metadata": {
        "colab": {
          "base_uri": "https://localhost:8080/",
          "height": 712
        },
        "id": "pxv9d6o5ygEm",
        "outputId": "a39b8e78-707c-43a6-f7e4-4ca3e67cdd86"
      },
      "outputs": [
        {
          "output_type": "stream",
          "name": "stdout",
          "text": [
            "intent_name\n",
            "MakeBooking             3441\n",
            "ThankYou                1261\n",
            "RequestAmenitiesInfo     795\n",
            "DeclineBooking           627\n",
            "RequestOtherHotel        384\n",
            "Name: count, dtype: int64\n"
          ]
        },
        {
          "output_type": "display_data",
          "data": {
            "text/plain": [
              "<Figure size 1200x600 with 1 Axes>"
            ],
            "image/png": "[encoded data removed]"
          },
          "metadata": {}
        }
      ],
      "source": [
        "# Mapping act numbers to intents\n",
        "intent_mapping = {\n",
        "    0: \"MakeBooking\",\n",
        "    1: \"MakeBooking\",\n",
        "    2: \"ThankYou\",\n",
        "    3: \"MakeBooking\",\n",
        "    4: \"DeclineBooking\",\n",
        "    5: \"DeclineBooking\",\n",
        "    10: \"RequestAmenitiesInfo\",\n",
        "    11: \"RequestOtherHotel\",\n",
        "    13: \"MakeBooking\",\n",
        "    14: \"ThankYou\"\n",
        "}\n",
        "\n",
        "df['intent_name'] = df['act'].map(intent_mapping)\n",
        "\n",
        "# Verify new distribution\n",
        "new_counts = df['intent_name'].value_counts()\n",
        "print(new_counts)\n",
        "\n",
        "# Visualize new distribution\n",
        "plt.figure(figsize=(12,6))\n",
        "new_counts.plot(kind='bar')\n",
        "plt.title(\"Mapped Intent Distribution\")\n",
        "plt.xticks(rotation=45, ha='right')\n",
        "plt.tight_layout()\n",
        "plt.show()"
      ]
    },
    {
      "cell_type": "code",
      "execution_count": null,
      "metadata": {
        "id": "IXl_m6xk5Q2-"
      },
      "outputs": [],
      "source": [
        "from sklearn.model_selection import train_test_split\n",
        "from datasets import Dataset, DatasetDict\n",
        "\n",
        "# Step 1: Split the dataframe (stratified by intent_name)\n",
        "train_df, test_df = train_test_split(\n",
        "    df,\n",
        "    test_size=0.2,\n",
        "    random_state=42,\n",
        "    stratify=df['intent_name']\n",
        ")\n",
        "\n",
        "# Step 2: Convert to Hugging Face Datasets\n",
        "train_dataset = Dataset.from_pandas(train_df.reset_index(drop=True))\n",
        "test_dataset = Dataset.from_pandas(test_df.reset_index(drop=True))\n",
        "\n",
        "# Step 3: Wrap in a DatasetDict\n",
        "dataset = DatasetDict({\n",
        "    'train': train_dataset,\n",
        "    'test': test_dataset\n",
        "})"
      ]
    },
    {
      "cell_type": "markdown",
      "source": [
        "## Setting up model parameters"
      ],
      "metadata": {
        "id": "5frVhdv41Y8z"
      }
    },
    {
      "cell_type": "code",
      "source": [
        "from transformers import BertForSequenceClassification, TrainingArguments, BertTokenizer, Trainer\n",
        "from sklearn.metrics import f1_score\n",
        "from sklearn.utils.class_weight import compute_class_weight\n",
        "from sklearn.preprocessing import LabelEncoder\n",
        "from torch.utils.data import Dataset\n",
        "import numpy as np\n",
        "import torch\n",
        "\n",
        "\n",
        "# 1. Load the tokenizer correctly\n",
        "tokenizer = BertTokenizer.from_pretrained('bert-base-uncased')\n",
        "\n",
        "# 2. Tokenization function\n",
        "def tokenize_function(examples):\n",
        "    return tokenizer(examples['text'], padding='max_length', truncation=True, max_length=128)\n",
        "\n",
        "tokenized_dataset = dataset.map(tokenize_function, batched=True)\n",
        "\n",
        "# 3. Encode string labels into integers\n",
        "le = LabelEncoder()\n",
        "train_labels = le.fit_transform(tokenized_dataset['train']['intent_name'])\n",
        "test_labels = le.transform(tokenized_dataset['test']['intent_name'])\n",
        "\n",
        "# 4. Add numeric labels to the dataset\n",
        "tokenized_dataset = tokenized_dataset.map(\n",
        "    lambda x: {'labels': le.transform(x['intent_name'])},\n",
        "    batched=True\n",
        ")\n",
        "\n",
        "# 5. Compute class weights\n",
        "classes = np.unique(train_labels)\n",
        "class_weights = compute_class_weight('balanced', classes=classes, y=train_labels)\n",
        "class_weight_tensor = torch.tensor(class_weights, dtype=torch.float)\n",
        "\n",
        "# 6. Create a weighted dataset wrapper\n",
        "class WeightedDataset(Dataset):\n",
        "    def __init__(self, dataset):\n",
        "        self.dataset = dataset\n",
        "        self.weights = [class_weight_tensor[int(label)].item() for label in dataset['labels']]\n",
        "\n",
        "    def __getitem__(self, idx):\n",
        "        item = {k: self.dataset[idx][k] for k in self.dataset[idx].keys()}\n",
        "        item[\"weight\"] = self.weights[idx]\n",
        "        item[\"labels\"] = int(self.dataset[idx]['labels'])  # Required for Hugging Face Trainer\n",
        "        return item\n",
        "\n",
        "    def __len__(self):\n",
        "        return len(self.dataset)\n",
        "\n",
        "weighted_train_dataset = WeightedDataset(tokenized_dataset[\"train\"])\n",
        "weighted_test_dataset = WeightedDataset(tokenized_dataset[\"test\"])\n",
        "\n",
        "# 7. Custom Trainer to support class weights\n",
        "class WeightedTrainer(Trainer):\n",
        "    def __init__(self, *args, class_weights=None, **kwargs):\n",
        "        super().__init__(*args, **kwargs)\n",
        "        self.class_weights = class_weights\n",
        "\n",
        "    def compute_loss(self, model, inputs, return_outputs=False, **kwargs):\n",
        "        labels = inputs.pop(\"labels\")\n",
        "        outputs = model(**inputs)\n",
        "        logits = outputs.logits\n",
        "        loss_fct = torch.nn.CrossEntropyLoss(weight=self.class_weights.to(self.args.device))\n",
        "        loss = loss_fct(logits.view(-1, self.model.config.num_labels), labels.view(-1))\n",
        "        return (loss, outputs) if return_outputs else loss\n",
        "\n",
        "# 8. Evaluation metrics\n",
        "def compute_metrics(p):\n",
        "    preds = np.argmax(p.predictions, axis=1)\n",
        "    return {\n",
        "        'macro_f1': f1_score(p.label_ids, preds, average='macro'),\n",
        "        'micro_f1': f1_score(p.label_ids, preds, average='micro'),\n",
        "        'weighted_f1': f1_score(p.label_ids, preds, average='weighted')\n",
        "    }\n",
        "\n",
        "# 9. ID , Label mapping\n",
        "id2label = {i: label for i, label in enumerate(le.classes_)}\n",
        "label2id = {label: i for i, label in enumerate(le.classes_)}\n",
        "\n",
        "# 10. Model initialization\n",
        "model = BertForSequenceClassification.from_pretrained(\n",
        "    'bert-base-uncased',\n",
        "    num_labels=len(classes),\n",
        "    id2label=id2label,\n",
        "    label2id=label2id\n",
        ")\n",
        "\n",
        "# 11. Training arguments\n",
        "training_args = TrainingArguments(\n",
        "    output_dir='./results',\n",
        "    per_device_train_batch_size=16,\n",
        "    per_device_eval_batch_size=16,\n",
        "    num_train_epochs=5,\n",
        "    eval_strategy='steps',\n",
        "    eval_steps=50,\n",
        "    logging_steps=50,\n",
        "    learning_rate=5e-5,\n",
        "    weight_decay=0.01,\n",
        "    save_strategy='steps',\n",
        "    load_best_model_at_end=True,\n",
        "    metric_for_best_model='macro_f1',\n",
        "    greater_is_better=True,\n",
        "    report_to='none'\n",
        ")"
      ],
      "metadata": {
        "colab": {
          "base_uri": "https://localhost:8080/",
          "height": 360,
          "referenced_widgets": [
            "445dec86dd4e45cc805003f0553bb4a3",
            "3e64362247374b5f9e6dec14a1854211",
            "90616b6dec2e43be8a990959f2ad0ed5",
            "89ad3e38737d4804ac6efd80b6d8b47e",
            "cd567f7021924f9f9a0e90d17b0cb5de",
            "0e870288c0a942cbb01bc6ba6c0049ac",
            "13286a0329cc4a2cb308c4bb19f76b58",
            "ea45fd2da4e5416a97aebc7529801aa1",
            "54eab8b3429d4623ab535c0adc816361",
            "cc8b57ece874495c9860398e57f965ae",
            "627005ae77da4795893c13b1fee300a5",
            "162f0d860c99481ba37021294203ccd0",
            "9c2e8612a7944fe2a54d452cda151965",
            "46d590ee2762422aba2ddb5c90d334ce",
            "d9c396b0665a4014a489fea7ccab1bcb",
            "1ac5a5f932ec4ccbbba5c0effa2ac69e",
            "7fab2fe583bf44018fce97366e1d3ae6",
            "4a23bb28bf9c435f91a7899e591db31e",
            "b9f8f56154e344208eb34eba943cbd91",
            "f39e321109284649aa272aff63412389",
            "a03abb541c9a40dd80b64596cf28b448",
            "867d3942bb364fed89ddced3d7e99bfd",
            "a7d401772546438d894126e476e3a6bb",
            "eefc13f0e32f49efa450d079ea9d421c",
            "4ed89393ffbf4bd8bb1b4b128d6ceba1",
            "dde0d974776b4537aa610838dd573fd5",
            "65befefc63e346a58a6c073c0c783c42",
            "0ed59d7e3d4a42088ef15a6adee97130",
            "7d31981c74e34e76b9c720361d90b8b8",
            "465658dfee64437aac5cf2c14ee26dba",
            "08590941d8284965852cfa9bfc083a93",
            "1d54b261e9d34b20b226b1eb07727fde",
            "ebf4dc5e70384e79bfd54c45de0f5806",
            "42962e04ece0401aa45011594a50066e",
            "d37af953a3b6412497579b939c3b6383",
            "273a944992df42b5a0f96e0b18572dc8",
            "94f29def8bae47df94ac1cc0fe6220b2",
            "538e75fdade3454095b1faff3a915d20",
            "250bf114f12747b4af3f3818cd9ec9b3",
            "b9840f2c358a43e4af273f91854c7103",
            "671cba23e2a540b89f39ceaca552793d",
            "24fdb8c874b64692a5378f2340373f30",
            "e1416b3dff404de59524374aa1c4324d",
            "db85fbb1f0964ccd9ed4c5b1f7f2c639",
            "b3f7414f3441435195981be8147e3e51",
            "168e28db50144aa2bf141b02311cceca",
            "35a66c4ca78f46909933739a47d9fc2f",
            "ebbf8314a5f44bd0a98b9931ee573e02",
            "7e0d342c5efe425ab9a03e19d79675fe",
            "7d77e80233ac47d0b4fb68b77b8123f6",
            "bc49aef606bf4e959353ceb8f260615e",
            "f71d0609019e4df8acce01aeb8ef6d3c",
            "4661af336efb4bf2b02b144a12738d5b",
            "1a3dfc85d1a2408e8efa77793a212f31",
            "53e192f033b74835ba8f034c234f4695",
            "d65bfcb0a18944b6960ede4e9529a3b0",
            "bf884322fab7481083ed0c27358efcfb",
            "598d5e78cf5e4be786838144a4f30c31",
            "bc206eb78aab4a0584909811409fd0f9",
            "bbf912e316374c10bf90647f0789c2d2",
            "22a2b14fe1cd4c588a4325a690dbb3e3",
            "f2f1e6e78def41f29d229a934ef2d1d1",
            "5d7c9443ec2a4b449966dbbfd4634afc",
            "3ec00ce8e59749b3a8dd22bd56179899",
            "acb8b982a3d6459d8a58c78379f0dadd",
            "f98a6e61cc6b4962b0fe0d49479d5128",
            "553aa3e253cc4167861c54e2a4658008",
            "5b5619050aec4dd8bff0a70b4fa5fef5",
            "90d969c9f39d4d0187f2d3895cbd1ee4",
            "f26fafaa5f1f4639bd41dd8bf484e433",
            "80d5abfbc4f94cc9a26c2feda95c97f3",
            "126961a977214279862415bd221767ae",
            "a6ef406e76f64828bd237046e92ba6d7",
            "8544f18b35a74dd1bf066075e7965074",
            "da4364a00ecd4600964d61512a113a94",
            "1c77aed6e6674585904c4b3de093265e",
            "ead6d33f6d7e4a8ca6bca21fb156ea1d",
            "04129e9722e1453f9b8cc53f1a78cf68",
            "440f6e209a114d669fc3f67c8a088bc8",
            "96783d9a4f624acba2ab6475b376ecd0",
            "ed84814470dd4ab0a7c09dce4012aa3a",
            "c6b07f0facc246fea0f413a44ba517ff",
            "9caebeb3a16b4ab6990bfc84cd49ab52",
            "ae8d11fe5e2e4b1ba8d0aa717dd5e2b2",
            "50c4584be552478da287fb61dcf1c014",
            "491b5c2cf354448c90459f1502b46e3f",
            "7251c502eb204986b9ee9ac6e603e659",
            "835a9bcf36b6454e8f424328fa44d7c2",
            "98f01c21366a48bdb1029ac5d94e3984",
            "7064060279cf406d8dcd5267885668e9",
            "3ebd2aaf35274e4ba597ab61632eea12",
            "6e710e337702451bbd9b3c104173dc11",
            "b523b6c64b414a7799680dc1a72d0275",
            "cefd14195c1b4817a3d3f15a47787260",
            "0ebc74d4b8874a4088ef60cdddd05caf",
            "c632655069874d57a1ba8fd5baa126c5",
            "bd4f17a989854d3baec3e6fcbc173d1f",
            "cc24b3d75c734fa994dfae7a2ae80664",
            "0f317fc2b56f4428bca82ac8549ec3a1"
          ]
        },
        "id": "tmauqvkNp0wO",
        "outputId": "173643f9-e9d7-421f-b47d-edf62d310748"
      },
      "execution_count": null,
      "outputs": [
        {
          "output_type": "display_data",
          "data": {
            "text/plain": [
              "tokenizer_config.json:   0%|          | 0.00/48.0 [00:00<?, ?B/s]"
            ],
            "application/vnd.jupyter.widget-view+json": {
              "version_major": 2,
              "version_minor": 0,
              "model_id": "445dec86dd4e45cc805003f0553bb4a3"
            }
          },
          "metadata": {}
        },
        {
          "output_type": "display_data",
          "data": {
            "text/plain": [
              "vocab.txt:   0%|          | 0.00/232k [00:00<?, ?B/s]"
            ],
            "application/vnd.jupyter.widget-view+json": {
              "version_major": 2,
              "version_minor": 0,
              "model_id": "162f0d860c99481ba37021294203ccd0"
            }
          },
          "metadata": {}
        },
        {
          "output_type": "display_data",
          "data": {
            "text/plain": [
              "tokenizer.json:   0%|          | 0.00/466k [00:00<?, ?B/s]"
            ],
            "application/vnd.jupyter.widget-view+json": {
              "version_major": 2,
              "version_minor": 0,
              "model_id": "a7d401772546438d894126e476e3a6bb"
            }
          },
          "metadata": {}
        },
        {
          "output_type": "display_data",
          "data": {
            "text/plain": [
              "config.json:   0%|          | 0.00/570 [00:00<?, ?B/s]"
            ],
            "application/vnd.jupyter.widget-view+json": {
              "version_major": 2,
              "version_minor": 0,
              "model_id": "42962e04ece0401aa45011594a50066e"
            }
          },
          "metadata": {}
        },
        {
          "output_type": "display_data",
          "data": {
            "text/plain": [
              "Map:   0%|          | 0/5206 [00:00<?, ? examples/s]"
            ],
            "application/vnd.jupyter.widget-view+json": {
              "version_major": 2,
              "version_minor": 0,
              "model_id": "b3f7414f3441435195981be8147e3e51"
            }
          },
          "metadata": {}
        },
        {
          "output_type": "display_data",
          "data": {
            "text/plain": [
              "Map:   0%|          | 0/1302 [00:00<?, ? examples/s]"
            ],
            "application/vnd.jupyter.widget-view+json": {
              "version_major": 2,
              "version_minor": 0,
              "model_id": "d65bfcb0a18944b6960ede4e9529a3b0"
            }
          },
          "metadata": {}
        },
        {
          "output_type": "display_data",
          "data": {
            "text/plain": [
              "Map:   0%|          | 0/5206 [00:00<?, ? examples/s]"
            ],
            "application/vnd.jupyter.widget-view+json": {
              "version_major": 2,
              "version_minor": 0,
              "model_id": "553aa3e253cc4167861c54e2a4658008"
            }
          },
          "metadata": {}
        },
        {
          "output_type": "display_data",
          "data": {
            "text/plain": [
              "Map:   0%|          | 0/1302 [00:00<?, ? examples/s]"
            ],
            "application/vnd.jupyter.widget-view+json": {
              "version_major": 2,
              "version_minor": 0,
              "model_id": "04129e9722e1453f9b8cc53f1a78cf68"
            }
          },
          "metadata": {}
        },
        {
          "output_type": "display_data",
          "data": {
            "text/plain": [
              "model.safetensors:   0%|          | 0.00/440M [00:00<?, ?B/s]"
            ],
            "application/vnd.jupyter.widget-view+json": {
              "version_major": 2,
              "version_minor": 0,
              "model_id": "98f01c21366a48bdb1029ac5d94e3984"
            }
          },
          "metadata": {}
        },
        {
          "output_type": "stream",
          "name": "stderr",
          "text": [
            "Some weights of BertForSequenceClassification were not initialized from the model checkpoint at bert-base-uncased and are newly initialized: ['classifier.bias', 'classifier.weight']\n",
            "You should probably TRAIN this model on a down-stream task to be able to use it for predictions and inference.\n"
          ]
        }
      ]
    },
    {
      "cell_type": "markdown",
      "metadata": {
        "id": "8pWvqp1A7BOb"
      },
      "source": [
        "## Training the model"
      ]
    },
    {
      "cell_type": "code",
      "execution_count": null,
      "metadata": {
        "colab": {
          "base_uri": "https://localhost:8080/",
          "height": 1000
        },
        "id": "8uOnXTfKE-0f",
        "outputId": "b787de1f-0966-462f-bec6-3aa8dfc48b55"
      },
      "outputs": [
        {
          "output_type": "display_data",
          "data": {
            "text/plain": [
              "<IPython.core.display.HTML object>"
            ],
            "text/html": [
              "\n",
              "    <div>\n",
              "      \n",
              "      <progress value='1630' max='1630' style='width:300px; height:20px; vertical-align: middle;'></progress>\n",
              "      [1630/1630 18:37, Epoch 5/5]\n",
              "    </div>\n",
              "    <table border=\"1\" class=\"dataframe\">\n",
              "  <thead>\n",
              " <tr style=\"text-align: left;\">\n",
              "      <th>Step</th>\n",
              "      <th>Training Loss</th>\n",
              "      <th>Validation Loss</th>\n",
              "      <th>Macro F1</th>\n",
              "      <th>Micro F1</th>\n",
              "      <th>Weighted F1</th>\n",
              "    </tr>\n",
              "  </thead>\n",
              "  <tbody>\n",
              "    <tr>\n",
              "      <td>50</td>\n",
              "      <td>0.944700</td>\n",
              "      <td>0.570818</td>\n",
              "      <td>0.625905</td>\n",
              "      <td>0.775730</td>\n",
              "      <td>0.756111</td>\n",
              "    </tr>\n",
              "    <tr>\n",
              "      <td>100</td>\n",
              "      <td>0.532500</td>\n",
              "      <td>0.452828</td>\n",
              "      <td>0.706283</td>\n",
              "      <td>0.782642</td>\n",
              "      <td>0.785479</td>\n",
              "    </tr>\n",
              "    <tr>\n",
              "      <td>150</td>\n",
              "      <td>0.495900</td>\n",
              "      <td>0.438528</td>\n",
              "      <td>0.732218</td>\n",
              "      <td>0.806452</td>\n",
              "      <td>0.797384</td>\n",
              "    </tr>\n",
              "    <tr>\n",
              "      <td>200</td>\n",
              "      <td>0.384700</td>\n",
              "      <td>0.375442</td>\n",
              "      <td>0.646200</td>\n",
              "      <td>0.801843</td>\n",
              "      <td>0.766230</td>\n",
              "    </tr>\n",
              "    <tr>\n",
              "      <td>250</td>\n",
              "      <td>0.403700</td>\n",
              "      <td>0.377446</td>\n",
              "      <td>0.656827</td>\n",
              "      <td>0.794163</td>\n",
              "      <td>0.763191</td>\n",
              "    </tr>\n",
              "    <tr>\n",
              "      <td>300</td>\n",
              "      <td>0.400200</td>\n",
              "      <td>0.431484</td>\n",
              "      <td>0.604921</td>\n",
              "      <td>0.791859</td>\n",
              "      <td>0.743836</td>\n",
              "    </tr>\n",
              "    <tr>\n",
              "      <td>350</td>\n",
              "      <td>0.401700</td>\n",
              "      <td>0.371779</td>\n",
              "      <td>0.660677</td>\n",
              "      <td>0.799539</td>\n",
              "      <td>0.765006</td>\n",
              "    </tr>\n",
              "    <tr>\n",
              "      <td>400</td>\n",
              "      <td>0.359700</td>\n",
              "      <td>0.400807</td>\n",
              "      <td>0.753137</td>\n",
              "      <td>0.809524</td>\n",
              "      <td>0.808359</td>\n",
              "    </tr>\n",
              "    <tr>\n",
              "      <td>450</td>\n",
              "      <td>0.354100</td>\n",
              "      <td>0.444993</td>\n",
              "      <td>0.605408</td>\n",
              "      <td>0.790323</td>\n",
              "      <td>0.744530</td>\n",
              "    </tr>\n",
              "    <tr>\n",
              "      <td>500</td>\n",
              "      <td>0.376600</td>\n",
              "      <td>0.371235</td>\n",
              "      <td>0.714147</td>\n",
              "      <td>0.785714</td>\n",
              "      <td>0.787184</td>\n",
              "    </tr>\n",
              "    <tr>\n",
              "      <td>550</td>\n",
              "      <td>0.325400</td>\n",
              "      <td>0.393236</td>\n",
              "      <td>0.731752</td>\n",
              "      <td>0.799539</td>\n",
              "      <td>0.802231</td>\n",
              "    </tr>\n",
              "    <tr>\n",
              "      <td>600</td>\n",
              "      <td>0.353500</td>\n",
              "      <td>0.370812</td>\n",
              "      <td>0.711049</td>\n",
              "      <td>0.793395</td>\n",
              "      <td>0.785512</td>\n",
              "    </tr>\n",
              "    <tr>\n",
              "      <td>650</td>\n",
              "      <td>0.362500</td>\n",
              "      <td>0.345088</td>\n",
              "      <td>0.686169</td>\n",
              "      <td>0.798003</td>\n",
              "      <td>0.781118</td>\n",
              "    </tr>\n",
              "    <tr>\n",
              "      <td>700</td>\n",
              "      <td>0.301900</td>\n",
              "      <td>0.391792</td>\n",
              "      <td>0.647276</td>\n",
              "      <td>0.784946</td>\n",
              "      <td>0.754403</td>\n",
              "    </tr>\n",
              "    <tr>\n",
              "      <td>750</td>\n",
              "      <td>0.340300</td>\n",
              "      <td>0.368054</td>\n",
              "      <td>0.709624</td>\n",
              "      <td>0.789555</td>\n",
              "      <td>0.788211</td>\n",
              "    </tr>\n",
              "    <tr>\n",
              "      <td>800</td>\n",
              "      <td>0.306300</td>\n",
              "      <td>0.385072</td>\n",
              "      <td>0.763505</td>\n",
              "      <td>0.794163</td>\n",
              "      <td>0.803076</td>\n",
              "    </tr>\n",
              "    <tr>\n",
              "      <td>850</td>\n",
              "      <td>0.326900</td>\n",
              "      <td>0.369651</td>\n",
              "      <td>0.662278</td>\n",
              "      <td>0.778802</td>\n",
              "      <td>0.765105</td>\n",
              "    </tr>\n",
              "    <tr>\n",
              "      <td>900</td>\n",
              "      <td>0.317000</td>\n",
              "      <td>0.369990</td>\n",
              "      <td>0.712326</td>\n",
              "      <td>0.788786</td>\n",
              "      <td>0.787900</td>\n",
              "    </tr>\n",
              "    <tr>\n",
              "      <td>950</td>\n",
              "      <td>0.323400</td>\n",
              "      <td>0.365975</td>\n",
              "      <td>0.742355</td>\n",
              "      <td>0.794931</td>\n",
              "      <td>0.797560</td>\n",
              "    </tr>\n",
              "    <tr>\n",
              "      <td>1000</td>\n",
              "      <td>0.293200</td>\n",
              "      <td>0.382653</td>\n",
              "      <td>0.729992</td>\n",
              "      <td>0.800307</td>\n",
              "      <td>0.794574</td>\n",
              "    </tr>\n",
              "    <tr>\n",
              "      <td>1050</td>\n",
              "      <td>0.313200</td>\n",
              "      <td>0.392422</td>\n",
              "      <td>0.709045</td>\n",
              "      <td>0.771889</td>\n",
              "      <td>0.776674</td>\n",
              "    </tr>\n",
              "    <tr>\n",
              "      <td>1100</td>\n",
              "      <td>0.316700</td>\n",
              "      <td>0.377120</td>\n",
              "      <td>0.691505</td>\n",
              "      <td>0.791859</td>\n",
              "      <td>0.780271</td>\n",
              "    </tr>\n",
              "    <tr>\n",
              "      <td>1150</td>\n",
              "      <td>0.280700</td>\n",
              "      <td>0.392099</td>\n",
              "      <td>0.697837</td>\n",
              "      <td>0.766513</td>\n",
              "      <td>0.769588</td>\n",
              "    </tr>\n",
              "    <tr>\n",
              "      <td>1200</td>\n",
              "      <td>0.294900</td>\n",
              "      <td>0.391757</td>\n",
              "      <td>0.712675</td>\n",
              "      <td>0.788018</td>\n",
              "      <td>0.787694</td>\n",
              "    </tr>\n",
              "    <tr>\n",
              "      <td>1250</td>\n",
              "      <td>0.272600</td>\n",
              "      <td>0.377446</td>\n",
              "      <td>0.727737</td>\n",
              "      <td>0.773425</td>\n",
              "      <td>0.780598</td>\n",
              "    </tr>\n",
              "    <tr>\n",
              "      <td>1300</td>\n",
              "      <td>0.276200</td>\n",
              "      <td>0.403524</td>\n",
              "      <td>0.700739</td>\n",
              "      <td>0.771889</td>\n",
              "      <td>0.774459</td>\n",
              "    </tr>\n",
              "    <tr>\n",
              "      <td>1350</td>\n",
              "      <td>0.271900</td>\n",
              "      <td>0.409176</td>\n",
              "      <td>0.618355</td>\n",
              "      <td>0.771889</td>\n",
              "      <td>0.741268</td>\n",
              "    </tr>\n",
              "    <tr>\n",
              "      <td>1400</td>\n",
              "      <td>0.267700</td>\n",
              "      <td>0.405692</td>\n",
              "      <td>0.655227</td>\n",
              "      <td>0.755760</td>\n",
              "      <td>0.750499</td>\n",
              "    </tr>\n",
              "    <tr>\n",
              "      <td>1450</td>\n",
              "      <td>0.294900</td>\n",
              "      <td>0.402960</td>\n",
              "      <td>0.715367</td>\n",
              "      <td>0.771889</td>\n",
              "      <td>0.776152</td>\n",
              "    </tr>\n",
              "    <tr>\n",
              "      <td>1500</td>\n",
              "      <td>0.279900</td>\n",
              "      <td>0.420089</td>\n",
              "      <td>0.699745</td>\n",
              "      <td>0.761137</td>\n",
              "      <td>0.766007</td>\n",
              "    </tr>\n",
              "    <tr>\n",
              "      <td>1550</td>\n",
              "      <td>0.256800</td>\n",
              "      <td>0.425768</td>\n",
              "      <td>0.717650</td>\n",
              "      <td>0.770353</td>\n",
              "      <td>0.777222</td>\n",
              "    </tr>\n",
              "    <tr>\n",
              "      <td>1600</td>\n",
              "      <td>0.314400</td>\n",
              "      <td>0.415843</td>\n",
              "      <td>0.698722</td>\n",
              "      <td>0.758833</td>\n",
              "      <td>0.765699</td>\n",
              "    </tr>\n",
              "  </tbody>\n",
              "</table><p>"
            ]
          },
          "metadata": {}
        },
        {
          "output_type": "execute_result",
          "data": {
            "text/plain": [
              "TrainOutput(global_step=1630, training_loss=0.35293221853993423, metrics={'train_runtime': 1119.459, 'train_samples_per_second': 23.252, 'train_steps_per_second': 1.456, 'total_flos': 1712241312084480.0, 'train_loss': 0.35293221853993423, 'epoch': 5.0})"
            ]
          },
          "metadata": {},
          "execution_count": 9
        }
      ],
      "source": [
        "# Initialize trainer\n",
        "trainer = Trainer(\n",
        "    model=model,\n",
        "    args=training_args,\n",
        "    train_dataset=weighted_train_dataset,\n",
        "    eval_dataset=weighted_test_dataset,\n",
        "    compute_metrics=compute_metrics # Using the F1 metrics function\n",
        ")\n",
        "\n",
        "trainer.train()"
      ]
    },
    {
      "cell_type": "markdown",
      "metadata": {
        "id": "aph4yGbTFQ1a"
      },
      "source": [
        "## Evaluating and saving the trained model"
      ]
    },
    {
      "cell_type": "code",
      "execution_count": null,
      "metadata": {
        "id": "T0teGEjbwLYY",
        "colab": {
          "base_uri": "https://localhost:8080/",
          "height": 564
        },
        "outputId": "914fe8af-0172-425e-edad-52c1ba8e3cc7"
      },
      "outputs": [
        {
          "output_type": "display_data",
          "data": {
            "text/plain": [
              "<Figure size 1000x600 with 1 Axes>"
            ],
            "image/png": "[encoded data removed]"
          },
          "metadata": {}
        }
      ],
      "source": [
        "# Get training history\n",
        "history = trainer.state.log_history\n",
        "\n",
        "# Convert to DataFrame\n",
        "df_history = pd.DataFrame(history)\n",
        "\n",
        "# Clean and plot\n",
        "train_loss = df_history[df_history['loss'].notna()]\n",
        "eval_loss = df_history[df_history['eval_loss'].notna()]\n",
        "\n",
        "plt.figure(figsize=(10, 6))\n",
        "plt.plot(train_loss['step'], train_loss['loss'], label='Training Loss')\n",
        "plt.plot(eval_loss['step'], eval_loss['eval_loss'], label='Validation Loss')\n",
        "plt.xlabel('Steps')\n",
        "plt.ylabel('Loss')\n",
        "plt.title('Training vs Validation Loss')\n",
        "plt.legend()\n",
        "plt.grid()\n",
        "plt.savefig('post_training_loss.png')\n",
        "plt.show()"
      ]
    },
    {
      "cell_type": "code",
      "execution_count": null,
      "metadata": {
        "id": "b1d-vMfMFWUJ",
        "colab": {
          "base_uri": "https://localhost:8080/",
          "height": 260
        },
        "outputId": "26c09104-3012-464e-affe-ba69d8cdd2d3"
      },
      "outputs": [
        {
          "output_type": "display_data",
          "data": {
            "text/plain": [
              "<IPython.core.display.HTML object>"
            ],
            "text/html": []
          },
          "metadata": {}
        },
        {
          "output_type": "stream",
          "name": "stdout",
          "text": [
            "\n",
            "Classification Report:\n",
            "                      precision    recall  f1-score   support\n",
            "\n",
            "      DeclineBooking       0.46      0.74      0.56       126\n",
            "         MakeBooking       0.84      0.81      0.83       688\n",
            "RequestAmenitiesInfo       0.71      0.75      0.73       159\n",
            "   RequestOtherHotel       0.61      0.56      0.58        77\n",
            "            ThankYou       0.90      0.68      0.77       252\n",
            "\n",
            "            accuracy                           0.76      1302\n",
            "           macro avg       0.70      0.71      0.69      1302\n",
            "        weighted avg       0.78      0.76      0.76      1302\n",
            "\n"
          ]
        }
      ],
      "source": [
        "from sklearn.metrics import classification_report\n",
        "# Obtaining classification report for model evaluation\n",
        "predictions = trainer.predict(tokenized_dataset['test'])\n",
        "preds = np.argmax(predictions.predictions, axis=1)\n",
        "\n",
        "print(\"\\nClassification Report:\")\n",
        "print(classification_report(\n",
        "    predictions.label_ids,\n",
        "    preds,\n",
        "    target_names=list(id2label.values()), # Now id2label is globally available\n",
        "    zero_division=0\n",
        "))"
      ]
    },
    {
      "cell_type": "code",
      "execution_count": null,
      "metadata": {
        "colab": {
          "base_uri": "https://localhost:8080/"
        },
        "id": "kSpho4N3Fjo4",
        "outputId": "3e37c396-0567-4b8f-8090-80fb64ced769"
      },
      "outputs": [
        {
          "output_type": "execute_result",
          "data": {
            "text/plain": [
              "('./trained_model/tokenizer_config.json',\n",
              " './trained_model/special_tokens_map.json',\n",
              " './trained_model/vocab.txt',\n",
              " './trained_model/added_tokens.json')"
            ]
          },
          "metadata": {},
          "execution_count": 12
        }
      ],
      "source": [
        "# Saving the model\n",
        "model.save_pretrained('./trained_model')\n",
        "tokenizer.save_pretrained('./trained_model')"
      ]
    },
    {
      "cell_type": "markdown",
      "metadata": {
        "id": "bUEoG5LdxOxX"
      },
      "source": [
        "## Testing the model"
      ]
    },
    {
      "cell_type": "code",
      "execution_count": null,
      "metadata": {
        "id": "p8wD6hnxxaz4"
      },
      "outputs": [],
      "source": [
        "from transformers import BertForSequenceClassification, BertTokenizer\n",
        "\n",
        "model_path = \"./trained_model\"  # Your saved model directory\n",
        "model = BertForSequenceClassification.from_pretrained(model_path)\n",
        "tokenizer = BertTokenizer.from_pretrained(model_path)"
      ]
    },
    {
      "cell_type": "code",
      "execution_count": null,
      "metadata": {
        "id": "NjpTfrMOxpMp"
      },
      "outputs": [],
      "source": [
        "import pandas as pd\n",
        "import torch\n",
        "\n",
        "def predict_intent_table(test_texts, return_confidence=True):\n",
        "    \"\"\"\n",
        "    Predict intents for multiple texts and return results in a table format.\n",
        "\n",
        "    Args:\n",
        "        test_texts (list): List of text strings to predict\n",
        "        return_confidence (bool): Whether to include confidence scores\n",
        "\n",
        "    Returns:\n",
        "        pd.DataFrame: Table with columns 'text', 'predicted_intent', and 'confidence'\n",
        "    \"\"\"\n",
        "    results = []\n",
        "\n",
        "    for text in test_texts:\n",
        "        # Tokenize input\n",
        "        inputs = tokenizer(text, return_tensors=\"pt\", truncation=True, max_length=128)\n",
        "\n",
        "        # Get predictions\n",
        "        with torch.no_grad():\n",
        "            outputs = model(**inputs)\n",
        "\n",
        "        # Convert to probabilities\n",
        "        probs = torch.nn.functional.softmax(outputs.logits, dim=-1)\n",
        "        top_prob, top_label = torch.max(probs, dim=1)\n",
        "\n",
        "        # Get intent name and confidence\n",
        "        intent = model.config.id2label[top_label.item()]\n",
        "        confidence = top_prob.item()\n",
        "\n",
        "        results.append({\n",
        "            'text': text,\n",
        "            'predicted_intent': intent,\n",
        "            'confidence': confidence\n",
        "        })\n",
        "\n",
        "    # Create dataframe and format confidence as percentage\n",
        "    df = pd.DataFrame(results)\n",
        "    if return_confidence:\n",
        "        df['confidence'] = df['confidence'].apply(lambda x: f\"{x:.1%}\")\n",
        "\n",
        "    return df"
      ]
    },
    {
      "cell_type": "code",
      "execution_count": null,
      "metadata": {
        "id": "P5WC39nqxzub",
        "colab": {
          "base_uri": "https://localhost:8080/"
        },
        "outputId": "6a43523b-4118-4830-f5b8-1d1819e70f53"
      },
      "outputs": [
        {
          "output_type": "stream",
          "name": "stdout",
          "text": [
            "                                                 text      predicted_intent  \\\n",
            "0                       Please book that room for me.           MakeBooking   \n",
            "1    Yes, I'd like to reserve the hotel for the 10th.           MakeBooking   \n",
            "2        Go ahead and confirm that, it looks perfect.           MakeBooking   \n",
            "3                         Thanks a lot for your help!              ThankYou   \n",
            "4   I really appreciate the assistance. That's all...              ThankYou   \n",
            "5                        Thank you, have a great day!              ThankYou   \n",
            "6                      Does this hotel provide Wi-Fi?  RequestAmenitiesInfo   \n",
            "7           Is there a pool or a gym in the building?  RequestAmenitiesInfo   \n",
            "8      Can I get information on parking availability?  RequestAmenitiesInfo   \n",
            "9                 No, I don\u2019t want to book right now.        DeclineBooking   \n",
            "10            Never mind, I\u2019ll take care of it later.        DeclineBooking   \n",
            "11  Actually, I\u2019m not interested anymore. Thanks a...        DeclineBooking   \n",
            "12               Do you have any other hotel options?     RequestOtherHotel   \n",
            "13   Can you show me something else in the same area?     RequestOtherHotel   \n",
            "14  That doesn\u2019t work for me \u2014 what else is availa...     RequestOtherHotel   \n",
            "\n",
            "   confidence  \n",
            "0       99.8%  \n",
            "1       99.8%  \n",
            "2       99.8%  \n",
            "3       99.8%  \n",
            "4       99.7%  \n",
            "5       99.5%  \n",
            "6       99.5%  \n",
            "7       99.2%  \n",
            "8       99.5%  \n",
            "9       79.3%  \n",
            "10      61.4%  \n",
            "11      59.2%  \n",
            "12      99.6%  \n",
            "13      99.6%  \n",
            "14      99.5%  \n"
          ]
        }
      ],
      "source": [
        "# Test with sample texts\n",
        "test_samples = [\n",
        "    # MakeBooking\n",
        "    \"Please book that room for me.\",\n",
        "    \"Yes, I'd like to reserve the hotel for the 10th.\",\n",
        "    \"Go ahead and confirm that, it looks perfect.\",\n",
        "\n",
        "    # ThankYou\n",
        "    \"Thanks a lot for your help!\",\n",
        "    \"I really appreciate the assistance. That's all I needed.\",\n",
        "    \"Thank you, have a great day!\",\n",
        "\n",
        "    # RequestAmenitiesInfo\n",
        "    \"Does this hotel provide Wi-Fi?\",\n",
        "    \"Is there a pool or a gym in the building?\",\n",
        "    \"Can I get information on parking availability?\",\n",
        "\n",
        "    # DeclineBooking\n",
        "    \"No, I don\u2019t want to book right now.\",\n",
        "    \"Never mind, I\u2019ll take care of it later.\",\n",
        "    \"Actually, I\u2019m not interested anymore. Thanks anyway.\",\n",
        "\n",
        "    # RequestOtherHotel\n",
        "    \"Do you have any other hotel options?\",\n",
        "    \"Can you show me something else in the same area?\",\n",
        "    \"That doesn\u2019t work for me \u2014 what else is available?\"\n",
        "]\n",
        "\n",
        "results = predict_intent_table(test_samples)\n",
        "print(results)"
      ]
    },
    {
      "cell_type": "code",
      "source": [
        "# DeclineBooking intent testing (worst performing category)\n",
        "decline_booking_samples = [\n",
        "    \"No, I don't want to book anything right now.\",\n",
        "    \"Actually, I\u2019ll pass for now. Thanks though.\",\n",
        "    \"Not today, thank you.\",\n",
        "    \"I\u2019m not ready to make a reservation.\",\n",
        "    \"I\u2019ll think about it and book later.\",\n",
        "    \"That won\u2019t work for me.\",\n",
        "    \"No need to continue, I\u2019ve changed my mind.\",\n",
        "    \"Thanks, but I won\u2019t be booking at this time.\",\n",
        "    \"I\u2019m going to skip this one.\",\n",
        "    \"Let me decide later. No booking for now.\",\n",
        "    \"I\u2019ve decided not to book anything right now.\",\n",
        "    \"I\u2019m not interested in booking anymore.\",\n",
        "    \"No thanks, I\u2019ll handle it myself.\",\n",
        "    \"I won\u2019t go ahead with the booking after all.\",\n",
        "    \"I\u2019ll hold off on booking for now.\",\n",
        "    \"Please cancel that \u2014 I\u2019ve reconsidered.\",\n",
        "    \"I\u2019ll book something on my own later.\",\n",
        "    \"That\u2019s all for now, no need to proceed.\",\n",
        "    \"I\u2019m not booking anything at this point.\",\n",
        "    \"No, I\u2019m good. No reservation needed.\"\n",
        "]\n",
        "\n",
        "results = predict_intent_table(decline_booking_samples)\n",
        "print(results)"
      ],
      "metadata": {
        "colab": {
          "base_uri": "https://localhost:8080/"
        },
        "id": "5BiOEt14tJIU",
        "outputId": "4cc9b6c6-c3e4-4647-c1f4-d11ab6b6987e"
      },
      "execution_count": null,
      "outputs": [
        {
          "output_type": "stream",
          "name": "stdout",
          "text": [
            "                                            text predicted_intent confidence\n",
            "0   No, I don't want to book anything right now.   DeclineBooking      78.9%\n",
            "1    Actually, I\u2019ll pass for now. Thanks though.   DeclineBooking      55.6%\n",
            "2                          Not today, thank you.   DeclineBooking      62.9%\n",
            "3           I\u2019m not ready to make a reservation.   DeclineBooking      65.0%\n",
            "4            I\u2019ll think about it and book later.      MakeBooking      99.5%\n",
            "5                        That won\u2019t work for me.   DeclineBooking      78.8%\n",
            "6     No need to continue, I\u2019ve changed my mind.   DeclineBooking      69.9%\n",
            "7   Thanks, but I won\u2019t be booking at this time.         ThankYou      86.2%\n",
            "8                    I\u2019m going to skip this one.      MakeBooking      63.3%\n",
            "9       Let me decide later. No booking for now.   DeclineBooking      77.0%\n",
            "10  I\u2019ve decided not to book anything right now.   DeclineBooking      78.9%\n",
            "11        I\u2019m not interested in booking anymore.   DeclineBooking      80.8%\n",
            "12             No thanks, I\u2019ll handle it myself.   DeclineBooking      54.2%\n",
            "13  I won\u2019t go ahead with the booking after all.   DeclineBooking      72.7%\n",
            "14             I\u2019ll hold off on booking for now.   DeclineBooking      43.4%\n",
            "15       Please cancel that \u2014 I\u2019ve reconsidered.   DeclineBooking      70.1%\n",
            "16          I\u2019ll book something on my own later.      MakeBooking      99.6%\n",
            "17       That\u2019s all for now, no need to proceed.         ThankYou      56.5%\n",
            "18       I\u2019m not booking anything at this point.   DeclineBooking      66.9%\n",
            "19          No, I\u2019m good. No reservation needed.   DeclineBooking      70.2%\n"
          ]
        }
      ]
    }
  ],
  "metadata": {
    "colab": {
      "provenance": []
    },
    "kernelspec": {
      "display_name": "Python 3",
      "name": "python3"
    },
    "language_info": {
      "name": "python"
    },
    "widgets": {
      "version": "1.0.0"
    }
  },
  "nbformat": 4,
  "nbformat_minor": 0
}